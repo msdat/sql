{
  "nbformat": 4,
  "nbformat_minor": 0,
  "metadata": {
    "colab": {
      "name": "Bookscrape.ipynb",
      "provenance": [],
      "collapsed_sections": [],
      "authorship_tag": "ABX9TyM7wPzobhCEOh3I7VZTQXwu"
    },
    "kernelspec": {
      "name": "python3",
      "display_name": "Python 3"
    },
    "language_info": {
      "name": "python"
    }
  },
  "cells": [
    {
      "cell_type": "code",
      "metadata": {
        "id": "t2Ie62yXhwoH"
      },
      "source": [
        "# import required libraries and modules \n",
        "import requests \n",
        "import time\n",
        "import re\n",
        "import csv\n",
        "from bs4 import BeautifulSoup # install beautifulsoup4"
      ],
      "execution_count": 38,
      "outputs": []
    },
    {
      "cell_type": "code",
      "metadata": {
        "id": "zpQU_V4uh8e0"
      },
      "source": [
        "def scrape(source_u, soup): # takes the driver & subdomain for concat as params \n",
        "# find elements of article tag\n",
        "    books = soup.find_all(\"article\", class_=\"product_pod\")\n",
        "    for b in books:\n",
        "         books = soup.find_all(\"article\", class_=\"product_pod\") \n",
        "# iterate through each book article tag for b in books: \n",
        "         info_u = source_u+\"/\"+b.h3.find(\"a\")[\"href\"] \n",
        "         cover_u = source_u+\"/catalogue\" + b.a.img[\"src\"].replace(\"..\", \"\") \n",
        "         title = b.h3.find(\"a\")[\"title\"] \n",
        "         rating = b.find(\"p\", class_=\"star-rating\")[\"class\"][1] # can also use : b.h3.find(\"a\").get(\"title\") \n",
        "         price = b.find(\"p\", class_=\"price_color\").text.strip().encode( \"ascii\", \"ignore\").decode(\"ascii\") \n",
        "         availability = b.find( \"p\", class_=\"instock availability\").text.strip() \n",
        "# write to csv file\n",
        "         write_to_csv([info_u, cover_u, title, rating, price, availability])"
      ],
      "execution_count": 39,
      "outputs": []
    },
    {
      "cell_type": "code",
      "metadata": {
        "id": "pUJijlCAh8ov"
      },
      "source": [
        "def write_to_csv(list_input): \n",
        "# scraped content written to a CSV file\n",
        "    try: \n",
        "        with open(\"ScrapedCatalog.csv\", \"a\") as fopen: # open csv file\n",
        "            csv_writer = csv.writer(fopen) \n",
        "            csv_writer.writerow(list_input) \n",
        "    except: \n",
        "        return False"
      ],
      "execution_count": 40,
      "outputs": []
    },
    {
      "cell_type": "code",
      "metadata": {
        "id": "RW3UAiGMh8yr"
      },
      "source": [
        "def book_scrape(seed_url, page_number=1): \n",
        "# get the url to append to images & info  \n",
        "    url_p = re.compile(r\"(http://.*\\.com)\") \n",
        "    source_u = url_p.search(seed_u).group(0) \n",
        "    formatted_u = seed_u.format(str(page_number))\n",
        "    try:  \n",
        "        html_text = requests.get(formatted_u).text \n",
        "# prepare the soup \n",
        "        soup = BeautifulSoup(html_text, \"html.parser\") \n",
        "        print(f\"Now Scraping - {formatted_u}\") # to stop script when it hits an empty page \n",
        "        if soup.find(\"li\", class_=\"next\") != None: \n",
        "            scrape(source_u, soup)  \n",
        "            time.sleep(3) \n",
        "            page_number += 1\n",
        "            book_scrape(seed_u, page_number) \n",
        "        else: \n",
        "            scrape(source_u, soup) # the script \n",
        "            return True\n",
        "        return True \n",
        "    except Exception as e:\n",
        "       return e"
      ],
      "execution_count": 41,
      "outputs": []
    },
    {
      "cell_type": "code",
      "metadata": {
        "colab": {
          "base_uri": "https://localhost:8080/"
        },
        "id": "70OkdipRh88_",
        "outputId": "0e394fa3-f8d7-4a5c-a7c3-ab7bb1c43408"
      },
      "source": [
        "if __name__ == \"__main__\": \n",
        "    seed_u = \"http://books.toscrape.com/catalogue/page-{}.html\"\n",
        "    print(\"Web scraping started\")\n",
        "    result = browse_and_scrape(seed_u)\n",
        " \n",
        "    if result == True:\n",
        "       print(\"Web scraping is done!\") \n",
        "    else: \n",
        "       print(f\"Error occurred - {result}\")"
      ],
      "execution_count": 42,
      "outputs": [
        {
          "output_type": "stream",
          "name": "stdout",
          "text": [
            "Web scraping started\n",
            "Now Scraping - http://books.toscrape.com/catalogue/page-1.html\n",
            "Now Scraping - http://books.toscrape.com/catalogue/page-2.html\n",
            "Now Scraping - http://books.toscrape.com/catalogue/page-3.html\n",
            "Now Scraping - http://books.toscrape.com/catalogue/page-4.html\n",
            "Now Scraping - http://books.toscrape.com/catalogue/page-5.html\n",
            "Now Scraping - http://books.toscrape.com/catalogue/page-6.html\n",
            "Now Scraping - http://books.toscrape.com/catalogue/page-7.html\n",
            "Now Scraping - http://books.toscrape.com/catalogue/page-8.html\n",
            "Now Scraping - http://books.toscrape.com/catalogue/page-9.html\n",
            "Now Scraping - http://books.toscrape.com/catalogue/page-10.html\n",
            "Now Scraping - http://books.toscrape.com/catalogue/page-11.html\n",
            "Now Scraping - http://books.toscrape.com/catalogue/page-12.html\n",
            "Now Scraping - http://books.toscrape.com/catalogue/page-13.html\n",
            "Now Scraping - http://books.toscrape.com/catalogue/page-14.html\n",
            "Now Scraping - http://books.toscrape.com/catalogue/page-15.html\n",
            "Now Scraping - http://books.toscrape.com/catalogue/page-16.html\n",
            "Now Scraping - http://books.toscrape.com/catalogue/page-17.html\n",
            "Now Scraping - http://books.toscrape.com/catalogue/page-18.html\n",
            "Now Scraping - http://books.toscrape.com/catalogue/page-19.html\n",
            "Now Scraping - http://books.toscrape.com/catalogue/page-20.html\n",
            "Now Scraping - http://books.toscrape.com/catalogue/page-21.html\n",
            "Now Scraping - http://books.toscrape.com/catalogue/page-22.html\n",
            "Now Scraping - http://books.toscrape.com/catalogue/page-23.html\n",
            "Now Scraping - http://books.toscrape.com/catalogue/page-24.html\n",
            "Now Scraping - http://books.toscrape.com/catalogue/page-25.html\n",
            "Now Scraping - http://books.toscrape.com/catalogue/page-26.html\n",
            "Now Scraping - http://books.toscrape.com/catalogue/page-27.html\n",
            "Now Scraping - http://books.toscrape.com/catalogue/page-28.html\n",
            "Now Scraping - http://books.toscrape.com/catalogue/page-29.html\n",
            "Now Scraping - http://books.toscrape.com/catalogue/page-30.html\n",
            "Now Scraping - http://books.toscrape.com/catalogue/page-31.html\n",
            "Now Scraping - http://books.toscrape.com/catalogue/page-32.html\n",
            "Now Scraping - http://books.toscrape.com/catalogue/page-33.html\n",
            "Now Scraping - http://books.toscrape.com/catalogue/page-34.html\n",
            "Now Scraping - http://books.toscrape.com/catalogue/page-35.html\n",
            "Now Scraping - http://books.toscrape.com/catalogue/page-36.html\n",
            "Now Scraping - http://books.toscrape.com/catalogue/page-37.html\n",
            "Now Scraping - http://books.toscrape.com/catalogue/page-38.html\n",
            "Now Scraping - http://books.toscrape.com/catalogue/page-39.html\n",
            "Now Scraping - http://books.toscrape.com/catalogue/page-40.html\n",
            "Now Scraping - http://books.toscrape.com/catalogue/page-41.html\n",
            "Now Scraping - http://books.toscrape.com/catalogue/page-42.html\n",
            "Now Scraping - http://books.toscrape.com/catalogue/page-43.html\n",
            "Now Scraping - http://books.toscrape.com/catalogue/page-44.html\n",
            "Now Scraping - http://books.toscrape.com/catalogue/page-45.html\n",
            "Now Scraping - http://books.toscrape.com/catalogue/page-46.html\n",
            "Now Scraping - http://books.toscrape.com/catalogue/page-47.html\n",
            "Now Scraping - http://books.toscrape.com/catalogue/page-48.html\n",
            "Now Scraping - http://books.toscrape.com/catalogue/page-49.html\n",
            "Now Scraping - http://books.toscrape.com/catalogue/page-50.html\n",
            "Web scraping is done!\n"
          ]
        }
      ]
    },
    {
      "cell_type": "code",
      "metadata": {
        "id": "IzI92X3xmTCL"
      },
      "source": [
        ""
      ],
      "execution_count": 42,
      "outputs": []
    }
  ]
}